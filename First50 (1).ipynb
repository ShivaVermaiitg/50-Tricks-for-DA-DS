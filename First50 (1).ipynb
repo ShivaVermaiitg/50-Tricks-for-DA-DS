{
  "metadata": {
    "kernelspec": {
      "name": "python",
      "display_name": "Python (Pyodide)",
      "language": "python"
    },
    "language_info": {
      "codemirror_mode": {
        "name": "python",
        "version": 3
      },
      "file_extension": ".py",
      "mimetype": "text/x-python",
      "name": "python",
      "nbconvert_exporter": "python",
      "pygments_lexer": "ipython3",
      "version": "3.8"
    }
  },
  "nbformat_minor": 4,
  "nbformat": 4,
  "cells": [
    {
      "cell_type": "markdown",
      "source": "# This is a level 1 heading\n## This is a level 2 heading\n### This is a level 3 heading \n#### This is a level 4 heading\n##### This is a level 5 heading\n###### This is a level 6 heading",
      "metadata": {}
    },
    {
      "cell_type": "markdown",
      "source": "# Execute is as bold sentences\n**Bold Text using asterisks.**\n__Bold Text using underscores__",
      "metadata": {}
    },
    {
      "cell_type": "markdown",
      "source": "# Execute a sentence as a italic\n*italic a sentence using a asterisks*\n_italic a sentence using a underscore_",
      "metadata": {}
    },
    {
      "cell_type": "markdown",
      "source": "# Execute it as a markdown cell\n[Skills Network](https://skills.network/)",
      "metadata": {}
    },
    {
      "cell_type": "markdown",
      "source": "# Execute it as a markdown cell\n[LinkedIn](www.linkedin.com/)",
      "metadata": {}
    },
    {
      "cell_type": "markdown",
      "source": "# LinkedIn\n[Shiva Verma LinkedIn Profile](https://www.linkedin.com/in/shiva-verma-405655229/)\n",
      "metadata": {}
    },
    {
      "cell_type": "markdown",
      "source": "# LinkedIn\n<https://www.linkedin.com/in/shiva-verma-405655229/>",
      "metadata": {}
    },
    {
      "cell_type": "markdown",
      "source": "### LinkedIn\n<https://www.linkedin.com/in/shiva-verma-iitg/>",
      "metadata": {}
    },
    {
      "cell_type": "markdown",
      "source": "# Logo\nLogo: ![logo](https://cf-courses-data.s3.us.cloud-object-storage.appdomain.cloud/assets/logos/SN_web_lightmode.png)",
      "metadata": {}
    },
    {
      "cell_type": "markdown",
      "source": "### Create a Tables in Markdown\n| Country Name | Capital Name |\n|--------------|--------------|\n| India | New Delhi |\n| United States | Washington DC |",
      "metadata": {}
    },
    {
      "cell_type": "markdown",
      "source": "## Execute as a markdown cell\n\n| Country Name | Capital |\n| -------------| ------ |\n| United States | Washington DC |\n| Australia | Canberra |\n| India | New Delhi |",
      "metadata": {}
    },
    {
      "cell_type": "markdown",
      "source": "# YOUTUBE\n[YOUTUBE](https://youtu.be/vavWAIiN7gM?si=9vNqnCDG-YBRFkTA)",
      "metadata": {}
    },
    {
      "cell_type": "markdown",
      "source": "# Execute as a markdown cell\n- First item using dashes\n- Second item using dashes\n- Third item using dashes\n- Fourth item using dashes",
      "metadata": {}
    },
    {
      "cell_type": "markdown",
      "source": "# IITG Department/Centre/School\n\n<details><summary>click here for IIT Guwahati Departments list</summary>\n\n\n\n```Python\n\n1.Jai_Ram\n2.Hello\n3.Bye\n4.Hi\n5.Good_Morning\n6.Good_Afternoon\n7.Good_Evening \n8.Good_Night\n\n\n1.\tBiosciences & Bioengineering\n\n2.\tChemical Engineering\n\n3.\tChemistry\n\n4.\tCivil Engineering\n\n5.\tComputer Science and Engineering\n\n6.\tDesign\n\n\n7.\tElectronics & Electrical Engineering\n\n8.\tHumanities and Social Sciences\n\n9.\tMathematics\n\n10.\tMechanical Engineering\n\n11.\tPhysics\n\n12.\tCentre for Disaster Management and Research\n\n13.\tCentre for the Environment\n\n14.\tCentre for Indian Knowledge System\n\n15.\tCenter for Intelligent, Cyber-Physical Systems\n\n16.\tCentre for Linguistic Science and Technology\n\n17.\t Centre for Nanotechnology\n\n18.\tCentre for Sustainable Polymers\n\n19.\tSchool of Agro and Rural Technology\n\n20.\t Mehta Family School of Data Science and Artificial Intelligence\n\n21.\tSchool of Health Science & Technology\n\n22.\tSchool of Energy Science and Engineering\n\n23.\tCentre for Disaster Management\n\n24.\tE-mobility (Jointly offered by EEE and Mechanical)\n",
      "metadata": {}
    },
    {
      "cell_type": "markdown",
      "source": "# Execute as a Markdown Cell\n\n1. First\n2. Second\n3. Third\n4. Fourth",
      "metadata": {}
    },
    {
      "cell_type": "code",
      "source": "",
      "metadata": {
        "trusted": true
      },
      "outputs": [],
      "execution_count": null
    }
  ]
}